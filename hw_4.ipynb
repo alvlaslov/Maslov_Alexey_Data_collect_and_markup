{
 "cells": [
  {
   "cell_type": "markdown",
   "id": "1ba8339f",
   "metadata": {},
   "source": [
    "Выберите веб-сайт с табличными данными, который вас интересует.\n",
    "Напишите код Python, использующий библиотеку requests для отправки HTTP GET-запроса на сайт и получения HTML-содержимого страницы.\n",
    "Выполните парсинг содержимого HTML с помощью библиотеки lxml, чтобы извлечь данные из таблицы.\n",
    "Сохраните извлеченные данные в CSV-файл с помощью модуля csv."
   ]
  },
  {
   "cell_type": "code",
   "execution_count": 1,
   "id": "04c69bc5",
   "metadata": {},
   "outputs": [],
   "source": [
    "import requests\n",
    "import json\n",
    "import time\n",
    "import csv\n",
    "import codecs\n",
    "from pymongo import MongoClient\n",
    "from lxml import html"
   ]
  },
  {
   "cell_type": "code",
   "execution_count": 2,
   "id": "3f2f6db5",
   "metadata": {},
   "outputs": [
    {
     "name": "stdout",
     "output_type": "stream",
     "text": [
      "200\n",
      "[{'Rank': '1', 'Player': 'Холанд Эрлинг', 'Position': 'Нападающий', 'Team': 'Манчестер Сити', 'Games': '15', 'Goals': '14', 'Penalties': '3', 'Goals/Games': '0.93'}, {'Rank': '2', 'Player': 'Салах Мохамед', 'Position': 'Нападающий', 'Team': 'Ливерпуль', 'Games': '20', 'Goals': '14', 'Penalties': '4', 'Goals/Games': '0.70'}, {'Rank': '3', 'Player': 'Соланке Доминик', 'Position': 'Нападающий', 'Team': 'Борнмут', 'Games': '20', 'Goals': '12', 'Penalties': '1', 'Goals/Games': '0.60'}, {'Rank': '4', 'Player': 'Сон Хын-Мин', 'Position': 'Нападающий', 'Team': 'Тоттенхэм', 'Games': '20', 'Goals': '12', 'Penalties': '1', 'Goals/Games': '0.60'}, {'Rank': '5', 'Player': 'Боуэн Джаррод', 'Position': 'Нападающий', 'Team': 'Вест Хэм', 'Games': '20', 'Goals': '11', 'Penalties': '0', 'Goals/Games': '0.55'}, {'Rank': '6', 'Player': 'Исак Александер', 'Position': 'Нападающий', 'Team': 'Ньюкасл', 'Games': '16', 'Goals': '10', 'Penalties': '2', 'Goals/Games': '0.63'}, {'Rank': '7', 'Player': 'Хван Хи-Чхан', 'Position': 'Нападающий', 'Team': 'Вулверхэмптон', 'Games': '20', 'Goals': '10', 'Penalties': '1', 'Goals/Games': '0.50'}, {'Rank': '8', 'Player': 'Палмер Коул', 'Position': 'Полузащитник', 'Team': 'Манчестер Сити', 'Games': '', 'Goals': '18', 'Penalties': '9', 'Goals/Games': '5'}, {'Rank': '9', 'Player': 'Уоткинс Олли', 'Position': 'Нападающий', 'Team': 'Астон Вилла', 'Games': '21', 'Goals': '9', 'Penalties': '0', 'Goals/Games': '0.43'}, {'Rank': '10', 'Player': 'Вуд Крис', 'Position': 'Нападающий', 'Team': 'Ноттингем Форест', 'Games': '19', 'Goals': '8', 'Penalties': '0', 'Goals/Games': '0.42'}, {'Rank': '11', 'Player': 'Уилсон Каллум', 'Position': 'Нападающий', 'Team': 'Ньюкасл', 'Games': '14', 'Goals': '7', 'Penalties': '2', 'Goals/Games': '0.50'}, {'Rank': '12', 'Player': 'Жота Диогу', 'Position': 'Нападающий', 'Team': 'Ливерпуль', 'Games': '15', 'Goals': '7', 'Penalties': '0', 'Goals/Games': '0.47'}, {'Rank': '13', 'Player': 'Мбеумо Брайан', 'Position': 'Полузащитник', 'Team': 'Брентфорд', 'Games': '15', 'Goals': '7', 'Penalties': '3', 'Goals/Games': '0.47'}, {'Rank': '14', 'Player': 'Ришарлисон', 'Position': 'Нападающий', 'Team': 'Тоттенхэм', 'Games': '18', 'Goals': '7', 'Penalties': '0', 'Goals/Games': '0.39'}, {'Rank': '15', 'Player': 'Джексон Николас', 'Position': 'Нападающий', 'Team': 'Челси', 'Games': '19', 'Goals': '7', 'Penalties': '0', 'Goals/Games': '0.37'}, {'Rank': '16', 'Player': 'Гордон Энтони', 'Position': 'Нападающий', 'Team': 'Ньюкасл', 'Games': '20', 'Goals': '7', 'Penalties': '0', 'Goals/Games': '0.35'}, {'Rank': '17', 'Player': 'Нуньес Дарвин', 'Position': 'Нападающий', 'Team': 'Ливерпуль', 'Games': '20', 'Goals': '7', 'Penalties': '0', 'Goals/Games': '0.35'}, {'Rank': '18', 'Player': 'Жоао Педро', 'Position': 'Нападающий', 'Team': 'Брайтон', 'Games': '21', 'Goals': '7', 'Penalties': '4', 'Goals/Games': '0.33'}, {'Rank': '19', 'Player': 'Эдуар Одсонн', 'Position': 'Нападающий', 'Team': 'Кристал Пэлас', 'Games': '15', 'Goals': '6', 'Penalties': '0', 'Goals/Games': '0.40'}, {'Rank': '20', 'Player': 'Кудус Мохаммед', 'Position': 'Полузащитник', 'Team': 'Вест Хэм', 'Games': '16', 'Goals': '6', 'Penalties': '0', 'Goals/Games': '0.38'}, {'Rank': '21', 'Player': 'Силва Бернарду', 'Position': 'Полузащитник', 'Team': 'Манчестер Сити', 'Games': '17', 'Goals': '6', 'Penalties': '0', 'Goals/Games': '0.35'}, {'Rank': '22', 'Player': 'Дюкуре Абдулайе', 'Position': 'Полузащитник', 'Team': 'Эвертон', 'Games': '18', 'Goals': '6', 'Penalties': '0', 'Goals/Games': '0.33'}, {'Rank': '23', 'Player': 'Бэйли Леон', 'Position': 'Полузащитник', 'Team': 'Астон Вилла', 'Games': '19', 'Goals': '6', 'Penalties': '0', 'Goals/Games': '0.32'}, {'Rank': '24', 'Player': 'Фергюсон Эван', 'Position': 'Нападающий', 'Team': 'Брайтон', 'Games': '19', 'Goals': '6', 'Penalties': '0', 'Goals/Games': '0.32'}, {'Rank': '25', 'Player': 'Альварес Хулиан', 'Position': 'Нападающий', 'Team': 'Манчестер Сити', 'Games': '20', 'Goals': '6', 'Penalties': '1', 'Goals/Games': '0.30'}, {'Rank': '26', 'Player': 'Сака Букайо', 'Position': 'Нападающий', 'Team': 'Арсенал', 'Games': '20', 'Goals': '6', 'Penalties': '2', 'Goals/Games': '0.30'}, {'Rank': '27', 'Player': 'Луис Дуглас', 'Position': 'Полузащитник', 'Team': 'Астон Вилла', 'Games': '20', 'Goals': '6', 'Penalties': '4', 'Goals/Games': '0.30'}, {'Rank': '28', 'Player': 'Кунья Матеус', 'Position': 'Нападающий', 'Team': 'Вулверхэмптон', 'Games': '21', 'Goals': '6', 'Penalties': '0', 'Goals/Games': '0.29'}, {'Rank': '29', 'Player': 'Олисе Майкл', 'Position': 'Полузащитник', 'Team': 'Кристал Пэлас', 'Games': '9', 'Goals': '5', 'Penalties': '1', 'Goals/Games': '0.56'}, {'Rank': '30', 'Player': 'МакТоминэй Скотт', 'Position': 'Полузащитник', 'Team': 'Ман Юнайтед', 'Games': '18', 'Goals': '5', 'Penalties': '0', 'Goals/Games': '0.28'}, {'Rank': '31', 'Player': 'Хименес Рауль', 'Position': 'Нападающий', 'Team': 'Фулхэм', 'Games': '18', 'Goals': '5', 'Penalties': '0', 'Goals/Games': '0.28'}, {'Rank': '32', 'Player': 'Кулусевски Деян', 'Position': 'Полузащитник', 'Team': 'Тоттенхэм', 'Games': '19', 'Goals': '5', 'Penalties': '0', 'Goals/Games': '0.26'}, {'Rank': '33', 'Player': 'Стерлинг Рахим', 'Position': 'Нападающий', 'Team': 'Челси', 'Games': '19', 'Goals': '5', 'Penalties': '0', 'Goals/Games': '0.26'}, {'Rank': '34', 'Player': 'Адебайо Элайджа', 'Position': 'Нападающий', 'Team': 'Лутон Таун', 'Games': '20', 'Goals': '5', 'Penalties': '0', 'Goals/Games': '0.25'}, {'Rank': '35', 'Player': 'Нкетиа Эдвард', 'Position': 'Нападающий', 'Team': 'Арсенал', 'Games': '20', 'Goals': '5', 'Penalties': '0', 'Goals/Games': '0.25'}, {'Rank': '36', 'Player': 'Соучек Томаш', 'Position': 'Полузащитник', 'Team': 'Вест Хэм', 'Games': '20', 'Goals': '5', 'Penalties': '0', 'Goals/Games': '0.25'}, {'Rank': '37', 'Player': 'Фоден Фил', 'Position': 'Полузащитник', 'Team': 'Манчестер Сити', 'Games': '20', 'Goals': '5', 'Penalties': '0', 'Goals/Games': '0.25'}, {'Rank': '38', 'Player': 'МакГинн Джон', 'Position': 'Полузащитник', 'Team': 'Астон Вилла', 'Games': '21', 'Goals': '5', 'Penalties': '0', 'Goals/Games': '0.24'}, {'Rank': '39', 'Player': 'Авонийи Тайво', 'Position': 'Нападающий', 'Team': 'Ноттингем Форест', 'Games': '10', 'Goals': '4', 'Penalties': '0', 'Goals/Games': '0.40'}, {'Rank': '40', 'Player': 'Фостер Лайл', 'Position': 'Нападающий', 'Team': 'Бернли', 'Games': '12', 'Goals': '4', 'Penalties': '0', 'Goals/Games': '0.33'}, {'Rank': '41', 'Player': 'МакБарни Оливер', 'Position': 'Нападающий', 'Team': 'Шеффилд Юн', 'Games': '12', 'Goals': '4', 'Penalties': '2', 'Goals/Games': '0.33'}, {'Rank': '42', 'Player': 'Адингра Симон', 'Position': 'Нападающий', 'Team': 'Брайтон', 'Games': '17', 'Goals': '4', 'Penalties': '0', 'Goals/Games': '0.24'}, {'Rank': '43', 'Player': 'Родри', 'Position': 'Полузащитник', 'Team': 'Манчестер Сити', 'Games': '17', 'Goals': '4', 'Penalties': '0', 'Goals/Games': '0.24'}, {'Rank': '44', 'Player': 'Троссард Леандро', 'Position': 'Нападающий', 'Team': 'Арсенал', 'Games': '17', 'Goals': '4', 'Penalties': '0', 'Goals/Games': '0.24'}, {'Rank': '45', 'Player': 'Виллиан', 'Position': 'Нападающий', 'Team': 'Фулхэм', 'Games': '17', 'Goals': '4', 'Penalties': '2', 'Goals/Games': '0.24'}, {'Rank': '46', 'Player': 'Лемина Марио', 'Position': 'Полузащитник', 'Team': 'Вулверхэмптон', 'Games': '18', 'Goals': '4', 'Penalties': '0', 'Goals/Games': '0.22'}, {'Rank': '47', 'Player': 'Эдегор Мартин', 'Position': 'Полузащитник', 'Team': 'Арсенал', 'Games': '18', 'Goals': '4', 'Penalties': '2', 'Goals/Games': '0.22'}, {'Rank': '48', 'Player': 'Висса Йоан', 'Position': 'Полузащитник', 'Team': 'Брентфорд', 'Games': '19', 'Goals': '4', 'Penalties': '0', 'Goals/Games': '0.21'}, {'Rank': '49', 'Player': 'Габриэл Мартинелли', 'Position': 'Нападающий', 'Team': 'Арсенал', 'Games': '19', 'Goals': '4', 'Penalties': '0', 'Goals/Games': '0.21'}, {'Rank': '50', 'Player': 'Рид Бобби', 'Position': 'Нападающий', 'Team': 'Фулхэм', 'Games': '19', 'Goals': '4', 'Penalties': '0', 'Goals/Games': '0.21'}]\n"
     ]
    }
   ],
   "source": [
    "url = 'https://www.soccer.ru/stats/strikers/208298/1353714?page='\n",
    "user_agent = 'Mozilla/5.0 (Windows NT 10.0; Win64; x64) AppleWebKit/537.36 (KHTML, like Gecko) Chrome/120.0.0.0 Safari/537.36'\n",
    "\n",
    "\n",
    "response = requests.get(url=url, headers = {'User-Agent' : user_agent})\n",
    "response.status_code\n",
    "\n",
    "print(response.status_code)\n",
    "\n",
    "\n",
    "tree = html.fromstring(response.content)\n",
    "table_rows = tree.xpath('//table[@class=\"site-table turnir-stat-table\"]/tbody/tr')\n",
    "\n",
    "\n",
    "data = []\n",
    "\n",
    "for row in table_rows:\n",
    "    columns =  row.xpath('.//td/text()')\n",
    "    stat = {}\n",
    "    try:\n",
    "        stat['Rank']= columns[0].strip('.')\n",
    "    except:\n",
    "        stat['Rank']= ''\n",
    "    try:\n",
    "        stat['Player']= row.xpath('.//td[2]/a/text()')[0].strip()\n",
    "    except:\n",
    "        stat['Player']= ''\n",
    "    try:\n",
    "        stat['Position']= columns[3].strip()\n",
    "    except:\n",
    "        stat['Position']= ''        \n",
    "    try:\n",
    "        stat['Team']= row.xpath('.//td[4]/a/text()')[0].strip()\n",
    "    except:\n",
    "        stat['Team']= ''\n",
    "    try:\n",
    "        stat['Games']= columns[6].strip()\n",
    "    except:\n",
    "        stat['Games']= ''\n",
    "    try:\n",
    "        stat['Goals']= columns[7].strip()\n",
    "    except:\n",
    "        stat['Goals']= ''\n",
    "    try:\n",
    "        stat['Penalties']= columns[8].strip()\n",
    "    except:\n",
    "        stat['Penalties']= ''\n",
    "    try:\n",
    "        stat['Goals/Games']= columns[9].strip()\n",
    "    except:\n",
    "        stat['Goals/Games']= ''\n",
    "    \n",
    "    data.append(stat)\n",
    "    \n",
    "print(data)"
   ]
  },
  {
   "cell_type": "code",
   "execution_count": 3,
   "id": "1027381e",
   "metadata": {},
   "outputs": [],
   "source": [
    "def scrape_page_data(url):\n",
    "    user_agent = 'Mozilla/5.0 (Windows NT 10.0; Win64; x64) AppleWebKit/537.36 (KHTML, like Gecko) Chrome/120.0.0.0 Safari/537.36'\n",
    "    response = requests.get(url=url, headers = {'User-Agent' : user_agent})\n",
    "    tree = html.fromstring(response.content)\n",
    "    table_rows = tree.xpath('//table[@class=\"site-table turnir-stat-table\"]/tbody/tr')\n",
    "    data = []\n",
    "    \n",
    "\n",
    "    for row in table_rows:\n",
    "        columns =  row.xpath('.//td/text()')\n",
    "        stat = {}\n",
    "        try:\n",
    "            stat['Rank']= columns[0].strip('.')\n",
    "        except:\n",
    "            stat['Rank']= ''\n",
    "        try:\n",
    "            stat['Player']= row.xpath('.//td[2]/a/text()')[0].strip()\n",
    "        except:\n",
    "            stat['Player']= ''\n",
    "        try:\n",
    "            stat['Position']= columns[3].strip()\n",
    "        except:\n",
    "            stat['Position']= ''        \n",
    "        try:\n",
    "            stat['Team']= row.xpath('.//td[4]/a/text()')[0].strip()\n",
    "        except:\n",
    "            stat['Team']= ''\n",
    "        try:\n",
    "            stat['Games']= columns[6].strip()\n",
    "        except:\n",
    "            stat['Games']= ''\n",
    "        try:\n",
    "            stat['Goals']= columns[7].strip()\n",
    "        except:\n",
    "            stat['Goals']= ''\n",
    "        try:\n",
    "            stat['Penalties']= columns[8].strip()\n",
    "        except:\n",
    "            stat['Penalties']= ''\n",
    "        try:\n",
    "            stat['Goals/Games']= columns[9].strip()\n",
    "        except:\n",
    "            stat['Goals/Games']= ''\n",
    "\n",
    "        data.append(stat)\n",
    "        \n",
    "    return data"
   ]
  },
  {
   "cell_type": "code",
   "execution_count": 4,
   "id": "74dc3d5d",
   "metadata": {},
   "outputs": [],
   "source": [
    "def save_data_to_mongodb(data):\n",
    "    client = MongoClient('localhost', 27017)\n",
    "    db = client['hw_4']\n",
    "    collection = db['goals_statistics_2024_england']\n",
    "    collection.insert_many(data)"
   ]
  },
  {
   "cell_type": "code",
   "execution_count": 5,
   "id": "60ceb319",
   "metadata": {},
   "outputs": [
    {
     "name": "stdout",
     "output_type": "stream",
     "text": [
      "Scraping page - 0...\n",
      "[{'Rank': '1', 'Player': 'Холанд Эрлинг', 'Position': 'Нападающий', 'Team': 'Манчестер Сити', 'Games': '15', 'Goals': '14', 'Penalties': '3', 'Goals/Games': '0.93'}, {'Rank': '2', 'Player': 'Салах Мохамед', 'Position': 'Нападающий', 'Team': 'Ливерпуль', 'Games': '20', 'Goals': '14', 'Penalties': '4', 'Goals/Games': '0.70'}, {'Rank': '3', 'Player': 'Соланке Доминик', 'Position': 'Нападающий', 'Team': 'Борнмут', 'Games': '20', 'Goals': '12', 'Penalties': '1', 'Goals/Games': '0.60'}, {'Rank': '4', 'Player': 'Сон Хын-Мин', 'Position': 'Нападающий', 'Team': 'Тоттенхэм', 'Games': '20', 'Goals': '12', 'Penalties': '1', 'Goals/Games': '0.60'}, {'Rank': '5', 'Player': 'Боуэн Джаррод', 'Position': 'Нападающий', 'Team': 'Вест Хэм', 'Games': '20', 'Goals': '11', 'Penalties': '0', 'Goals/Games': '0.55'}, {'Rank': '6', 'Player': 'Исак Александер', 'Position': 'Нападающий', 'Team': 'Ньюкасл', 'Games': '16', 'Goals': '10', 'Penalties': '2', 'Goals/Games': '0.63'}, {'Rank': '7', 'Player': 'Хван Хи-Чхан', 'Position': 'Нападающий', 'Team': 'Вулверхэмптон', 'Games': '20', 'Goals': '10', 'Penalties': '1', 'Goals/Games': '0.50'}, {'Rank': '8', 'Player': 'Палмер Коул', 'Position': 'Полузащитник', 'Team': 'Манчестер Сити', 'Games': '', 'Goals': '18', 'Penalties': '9', 'Goals/Games': '5'}, {'Rank': '9', 'Player': 'Уоткинс Олли', 'Position': 'Нападающий', 'Team': 'Астон Вилла', 'Games': '21', 'Goals': '9', 'Penalties': '0', 'Goals/Games': '0.43'}, {'Rank': '10', 'Player': 'Вуд Крис', 'Position': 'Нападающий', 'Team': 'Ноттингем Форест', 'Games': '19', 'Goals': '8', 'Penalties': '0', 'Goals/Games': '0.42'}, {'Rank': '11', 'Player': 'Уилсон Каллум', 'Position': 'Нападающий', 'Team': 'Ньюкасл', 'Games': '14', 'Goals': '7', 'Penalties': '2', 'Goals/Games': '0.50'}, {'Rank': '12', 'Player': 'Жота Диогу', 'Position': 'Нападающий', 'Team': 'Ливерпуль', 'Games': '15', 'Goals': '7', 'Penalties': '0', 'Goals/Games': '0.47'}, {'Rank': '13', 'Player': 'Мбеумо Брайан', 'Position': 'Полузащитник', 'Team': 'Брентфорд', 'Games': '15', 'Goals': '7', 'Penalties': '3', 'Goals/Games': '0.47'}, {'Rank': '14', 'Player': 'Ришарлисон', 'Position': 'Нападающий', 'Team': 'Тоттенхэм', 'Games': '18', 'Goals': '7', 'Penalties': '0', 'Goals/Games': '0.39'}, {'Rank': '15', 'Player': 'Джексон Николас', 'Position': 'Нападающий', 'Team': 'Челси', 'Games': '19', 'Goals': '7', 'Penalties': '0', 'Goals/Games': '0.37'}, {'Rank': '16', 'Player': 'Гордон Энтони', 'Position': 'Нападающий', 'Team': 'Ньюкасл', 'Games': '20', 'Goals': '7', 'Penalties': '0', 'Goals/Games': '0.35'}, {'Rank': '17', 'Player': 'Нуньес Дарвин', 'Position': 'Нападающий', 'Team': 'Ливерпуль', 'Games': '20', 'Goals': '7', 'Penalties': '0', 'Goals/Games': '0.35'}, {'Rank': '18', 'Player': 'Жоао Педро', 'Position': 'Нападающий', 'Team': 'Брайтон', 'Games': '21', 'Goals': '7', 'Penalties': '4', 'Goals/Games': '0.33'}, {'Rank': '19', 'Player': 'Эдуар Одсонн', 'Position': 'Нападающий', 'Team': 'Кристал Пэлас', 'Games': '15', 'Goals': '6', 'Penalties': '0', 'Goals/Games': '0.40'}, {'Rank': '20', 'Player': 'Кудус Мохаммед', 'Position': 'Полузащитник', 'Team': 'Вест Хэм', 'Games': '16', 'Goals': '6', 'Penalties': '0', 'Goals/Games': '0.38'}, {'Rank': '21', 'Player': 'Силва Бернарду', 'Position': 'Полузащитник', 'Team': 'Манчестер Сити', 'Games': '17', 'Goals': '6', 'Penalties': '0', 'Goals/Games': '0.35'}, {'Rank': '22', 'Player': 'Дюкуре Абдулайе', 'Position': 'Полузащитник', 'Team': 'Эвертон', 'Games': '18', 'Goals': '6', 'Penalties': '0', 'Goals/Games': '0.33'}, {'Rank': '23', 'Player': 'Бэйли Леон', 'Position': 'Полузащитник', 'Team': 'Астон Вилла', 'Games': '19', 'Goals': '6', 'Penalties': '0', 'Goals/Games': '0.32'}, {'Rank': '24', 'Player': 'Фергюсон Эван', 'Position': 'Нападающий', 'Team': 'Брайтон', 'Games': '19', 'Goals': '6', 'Penalties': '0', 'Goals/Games': '0.32'}, {'Rank': '25', 'Player': 'Альварес Хулиан', 'Position': 'Нападающий', 'Team': 'Манчестер Сити', 'Games': '20', 'Goals': '6', 'Penalties': '1', 'Goals/Games': '0.30'}, {'Rank': '26', 'Player': 'Сака Букайо', 'Position': 'Нападающий', 'Team': 'Арсенал', 'Games': '20', 'Goals': '6', 'Penalties': '2', 'Goals/Games': '0.30'}, {'Rank': '27', 'Player': 'Луис Дуглас', 'Position': 'Полузащитник', 'Team': 'Астон Вилла', 'Games': '20', 'Goals': '6', 'Penalties': '4', 'Goals/Games': '0.30'}, {'Rank': '28', 'Player': 'Кунья Матеус', 'Position': 'Нападающий', 'Team': 'Вулверхэмптон', 'Games': '21', 'Goals': '6', 'Penalties': '0', 'Goals/Games': '0.29'}, {'Rank': '29', 'Player': 'Олисе Майкл', 'Position': 'Полузащитник', 'Team': 'Кристал Пэлас', 'Games': '9', 'Goals': '5', 'Penalties': '1', 'Goals/Games': '0.56'}, {'Rank': '30', 'Player': 'МакТоминэй Скотт', 'Position': 'Полузащитник', 'Team': 'Ман Юнайтед', 'Games': '18', 'Goals': '5', 'Penalties': '0', 'Goals/Games': '0.28'}, {'Rank': '31', 'Player': 'Хименес Рауль', 'Position': 'Нападающий', 'Team': 'Фулхэм', 'Games': '18', 'Goals': '5', 'Penalties': '0', 'Goals/Games': '0.28'}, {'Rank': '32', 'Player': 'Кулусевски Деян', 'Position': 'Полузащитник', 'Team': 'Тоттенхэм', 'Games': '19', 'Goals': '5', 'Penalties': '0', 'Goals/Games': '0.26'}, {'Rank': '33', 'Player': 'Стерлинг Рахим', 'Position': 'Нападающий', 'Team': 'Челси', 'Games': '19', 'Goals': '5', 'Penalties': '0', 'Goals/Games': '0.26'}, {'Rank': '34', 'Player': 'Адебайо Элайджа', 'Position': 'Нападающий', 'Team': 'Лутон Таун', 'Games': '20', 'Goals': '5', 'Penalties': '0', 'Goals/Games': '0.25'}, {'Rank': '35', 'Player': 'Нкетиа Эдвард', 'Position': 'Нападающий', 'Team': 'Арсенал', 'Games': '20', 'Goals': '5', 'Penalties': '0', 'Goals/Games': '0.25'}, {'Rank': '36', 'Player': 'Соучек Томаш', 'Position': 'Полузащитник', 'Team': 'Вест Хэм', 'Games': '20', 'Goals': '5', 'Penalties': '0', 'Goals/Games': '0.25'}, {'Rank': '37', 'Player': 'Фоден Фил', 'Position': 'Полузащитник', 'Team': 'Манчестер Сити', 'Games': '20', 'Goals': '5', 'Penalties': '0', 'Goals/Games': '0.25'}, {'Rank': '38', 'Player': 'МакГинн Джон', 'Position': 'Полузащитник', 'Team': 'Астон Вилла', 'Games': '21', 'Goals': '5', 'Penalties': '0', 'Goals/Games': '0.24'}, {'Rank': '39', 'Player': 'Авонийи Тайво', 'Position': 'Нападающий', 'Team': 'Ноттингем Форест', 'Games': '10', 'Goals': '4', 'Penalties': '0', 'Goals/Games': '0.40'}, {'Rank': '40', 'Player': 'Фостер Лайл', 'Position': 'Нападающий', 'Team': 'Бернли', 'Games': '12', 'Goals': '4', 'Penalties': '0', 'Goals/Games': '0.33'}, {'Rank': '41', 'Player': 'МакБарни Оливер', 'Position': 'Нападающий', 'Team': 'Шеффилд Юн', 'Games': '12', 'Goals': '4', 'Penalties': '2', 'Goals/Games': '0.33'}, {'Rank': '42', 'Player': 'Адингра Симон', 'Position': 'Нападающий', 'Team': 'Брайтон', 'Games': '17', 'Goals': '4', 'Penalties': '0', 'Goals/Games': '0.24'}, {'Rank': '43', 'Player': 'Родри', 'Position': 'Полузащитник', 'Team': 'Манчестер Сити', 'Games': '17', 'Goals': '4', 'Penalties': '0', 'Goals/Games': '0.24'}, {'Rank': '44', 'Player': 'Троссард Леандро', 'Position': 'Нападающий', 'Team': 'Арсенал', 'Games': '17', 'Goals': '4', 'Penalties': '0', 'Goals/Games': '0.24'}, {'Rank': '45', 'Player': 'Виллиан', 'Position': 'Нападающий', 'Team': 'Фулхэм', 'Games': '17', 'Goals': '4', 'Penalties': '2', 'Goals/Games': '0.24'}, {'Rank': '46', 'Player': 'Лемина Марио', 'Position': 'Полузащитник', 'Team': 'Вулверхэмптон', 'Games': '18', 'Goals': '4', 'Penalties': '0', 'Goals/Games': '0.22'}, {'Rank': '47', 'Player': 'Эдегор Мартин', 'Position': 'Полузащитник', 'Team': 'Арсенал', 'Games': '18', 'Goals': '4', 'Penalties': '2', 'Goals/Games': '0.22'}, {'Rank': '48', 'Player': 'Висса Йоан', 'Position': 'Полузащитник', 'Team': 'Брентфорд', 'Games': '19', 'Goals': '4', 'Penalties': '0', 'Goals/Games': '0.21'}, {'Rank': '49', 'Player': 'Габриэл Мартинелли', 'Position': 'Нападающий', 'Team': 'Арсенал', 'Games': '19', 'Goals': '4', 'Penalties': '0', 'Goals/Games': '0.21'}, {'Rank': '50', 'Player': 'Рид Бобби', 'Position': 'Нападающий', 'Team': 'Фулхэм', 'Games': '19', 'Goals': '4', 'Penalties': '0', 'Goals/Games': '0.21'}]\n",
      "Scraping page - 1...\n",
      "[{'Rank': '51', 'Player': 'Амдуни Зеки', 'Position': 'Нападающий', 'Team': 'Бернли', 'Games': '20', 'Goals': '4', 'Penalties': '0', 'Goals/Games': '0.20'}, {'Rank': '52', 'Player': 'Эланга Антони', 'Position': 'Нападающий', 'Team': 'Ноттингем Форест', 'Games': '20', 'Goals': '4', 'Penalties': '0', 'Goals/Games': '0.20'}, {'Rank': '53', 'Player': 'Рэшфорд Маркус', 'Position': 'Нападающий', 'Team': 'Ман Юнайтед', 'Games': '20', 'Goals': '4', 'Penalties': '1', 'Goals/Games': '0.20'}, {'Rank': '54', 'Player': 'Уорд-Праус Джеймс', 'Position': 'Полузащитник', 'Team': 'Вест Хэм', 'Games': '20', 'Goals': '4', 'Penalties': '1', 'Goals/Games': '0.20'}, {'Rank': '55', 'Player': 'Хаверц Кай', 'Position': 'Полузащитник', 'Team': 'Арсенал', 'Games': '20', 'Goals': '4', 'Penalties': '1', 'Goals/Games': '0.20'}, {'Rank': '56', 'Player': 'Моррис Карлтон', 'Position': 'Нападающий', 'Team': 'Лутон Таун', 'Games': '20', 'Goals': '4', 'Penalties': '2', 'Goals/Games': '0.20'}, {'Rank': '57', 'Player': 'Диаби Мусса', 'Position': 'Нападающий', 'Team': 'Астон Вилла', 'Games': '21', 'Goals': '4', 'Penalties': '0', 'Goals/Games': '0.19'}, {'Rank': '58', 'Player': 'Марч Соломон', 'Position': 'Полузащитник', 'Team': 'Брайтон', 'Games': '7', 'Goals': '3', 'Penalties': '0', 'Goals/Games': '0.43'}, {'Rank': '59', 'Player': 'Мэддисон Джеймс', 'Position': 'Полузащитник', 'Team': 'Тоттенхэм', 'Games': '11', 'Goals': '3', 'Penalties': '0', 'Goals/Games': '0.27'}, {'Rank': '60', 'Player': 'Грилиш Джек', 'Position': 'Полузащитник', 'Team': 'Манчестер Сити', 'Games': '12', 'Goals': '3', 'Penalties': '0', 'Goals/Games': '0.25'}, {'Rank': '61', 'Player': 'Одоберт Уилсон', 'Position': 'Нападающий', 'Team': 'Бернли', 'Games': '12', 'Goals': '3', 'Penalties': '0', 'Goals/Games': '0.25'}, {'Rank': '62', 'Player': 'Йенсен Матиас', 'Position': 'Полузащитник', 'Team': 'Брентфорд', 'Games': '15', 'Goals': '3', 'Penalties': '0', 'Goals/Games': '0.20'}, {'Rank': '63', 'Player': 'Эзе Эберечи', 'Position': 'Полузащитник', 'Team': 'Кристал Пэлас', 'Games': '15', 'Goals': '3', 'Penalties': '1', 'Goals/Games': '0.20'}, {'Rank': '64', 'Player': 'Габриэл Жезус', 'Position': 'Нападающий', 'Team': 'Арсенал', 'Games': '16', 'Goals': '3', 'Penalties': '0', 'Goals/Games': '0.19'}, {'Rank': '65', 'Player': 'Ромеро Кристиан', 'Position': 'Защитник', 'Team': 'Тоттенхэм', 'Games': '16', 'Goals': '3', 'Penalties': '0', 'Goals/Games': '0.19'}, {'Rank': '66', 'Player': 'Семеньо Антуан', 'Position': 'Нападающий', 'Team': 'Борнмут', 'Games': '16', 'Goals': '3', 'Penalties': '0', 'Goals/Games': '0.19'}, {'Rank': '67', 'Player': 'Калверт-Льюин Доминик', 'Position': 'Нападающий', 'Team': 'Эвертон', 'Games': '17', 'Goals': '3', 'Penalties': '0', 'Goals/Games': '0.18'}, {'Rank': '68', 'Player': 'Митома Каору', 'Position': 'Полузащитник', 'Team': 'Брайтон', 'Games': '17', 'Goals': '3', 'Penalties': '0', 'Goals/Games': '0.18'}, {'Rank': '69', 'Player': 'Мопе Нил', 'Position': 'Нападающий', 'Team': 'Эвертон', 'Games': '', 'Goals': '17', 'Penalties': '3', 'Goals/Games': '0'}, {'Rank': '70', 'Player': 'Мудрик Михаил', 'Position': 'Полузащитник', 'Team': 'Челси', 'Games': '17', 'Goals': '3', 'Penalties': '0', 'Goals/Games': '0.18'}, {'Rank': '71', 'Player': 'Ивоби Алекс', 'Position': 'Нападающий', 'Team': 'Эвертон', 'Games': '', 'Goals': '18', 'Penalties': '3', 'Goals/Games': '0'}, {'Rank': '72', 'Player': 'Арчер Кэмерон', 'Position': 'Нападающий', 'Team': 'Шеффилд Юн', 'Games': '', 'Goals': '19', 'Penalties': '3', 'Goals/Games': '0'}, {'Rank': '73', 'Player': 'Гакпо Коди', 'Position': 'Нападающий', 'Team': 'Ливерпуль', 'Games': '19', 'Goals': '3', 'Penalties': '0', 'Goals/Games': '0.16'}, {'Rank': '74', 'Player': 'Гарначо Алехандро', 'Position': 'Нападающий', 'Team': 'Ман Юнайтед', 'Games': '19', 'Goals': '3', 'Penalties': '0', 'Goals/Games': '0.16'}, {'Rank': '75', 'Player': 'Гросс Паскаль', 'Position': 'Полузащитник', 'Team': 'Брайтон', 'Games': '19', 'Goals': '3', 'Penalties': '0', 'Goals/Games': '0.16'}, {'Rank': '76', 'Player': 'Браунхилл Джош', 'Position': 'Полузащитник', 'Team': 'Бернли', 'Games': '20', 'Goals': '3', 'Penalties': '0', 'Goals/Games': '0.15'}, {'Rank': '77', 'Player': 'Диас Луис', 'Position': 'Нападающий', 'Team': 'Ливерпуль', 'Games': '20', 'Goals': '3', 'Penalties': '0', 'Goals/Games': '0.15'}, {'Rank': '78', 'Player': 'Фернандеш Бруну', 'Position': 'Полузащитник', 'Team': 'Ман Юнайтед', 'Games': '20', 'Goals': '3', 'Penalties': '1', 'Goals/Games': '0.15'}, {'Rank': '79', 'Player': 'Альмирон Мигель', 'Position': 'Полузащитник', 'Team': 'Ньюкасл', 'Games': '21', 'Goals': '3', 'Penalties': '0', 'Goals/Games': '0.14'}, {'Rank': '80', 'Player': 'Райс Деклан', 'Position': 'Полузащитник', 'Team': 'Арсенал', 'Games': '21', 'Goals': '3', 'Penalties': '0', 'Goals/Games': '0.14'}, {'Rank': '81', 'Player': 'Фати Ансу', 'Position': 'Нападающий', 'Team': 'Брайтон', 'Games': '9', 'Goals': '2', 'Penalties': '0', 'Goals/Games': '0.22'}, {'Rank': '82', 'Player': 'Эступиньян Первис', 'Position': 'Защитник', 'Team': 'Брайтон', 'Games': '9', 'Goals': '2', 'Penalties': '0', 'Goals/Games': '0.22'}, {'Rank': '83', 'Player': 'Ботман Свен', 'Position': 'Защитник', 'Team': 'Ньюкасл', 'Games': '10', 'Goals': '2', 'Penalties': '0', 'Goals/Games': '0.20'}, {'Rank': '84', 'Player': 'Ло Чельсо Джовани', 'Position': 'Полузащитник', 'Team': 'Тоттенхэм', 'Games': '10', 'Goals': '2', 'Penalties': '0', 'Goals/Games': '0.20'}, {'Rank': '85', 'Player': 'Ми Бен', 'Position': 'Защитник', 'Team': 'Брентфорд', 'Games': '10', 'Goals': '2', 'Penalties': '0', 'Goals/Games': '0.20'}, {'Rank': '86', 'Player': 'Хиншелвуд Джек', 'Position': 'Полузащитник', 'Team': 'Брайтон', 'Games': '10', 'Goals': '2', 'Penalties': '0', 'Goals/Games': '0.20'}, {'Rank': '87', 'Player': 'Мадуеке Нони', 'Position': 'Нападающий', 'Team': 'Челси', 'Games': '10', 'Goals': '2', 'Penalties': '1', 'Goals/Games': '0.20'}, {'Rank': '88', 'Player': 'Каладжич Саша', 'Position': 'Нападающий', 'Team': 'Вулверхэмптон', 'Games': '11', 'Goals': '2', 'Penalties': '0', 'Goals/Games': '0.18'}, {'Rank': '89', 'Player': 'Антонио Майкл', 'Position': 'Нападающий', 'Team': 'Вест Хэм', 'Games': '12', 'Goals': '2', 'Penalties': '0', 'Goals/Games': '0.17'}, {'Rank': '90', 'Player': 'Беллегар Жанриснер', 'Position': 'Полузащитник', 'Team': 'Вулверхэмптон', 'Games': '12', 'Goals': '2', 'Penalties': '0', 'Goals/Games': '0.17'}, {'Rank': '91', 'Player': 'Доку Жереми', 'Position': 'Нападающий', 'Team': 'Манчестер Сити', 'Games': '12', 'Goals': '2', 'Penalties': '0', 'Goals/Games': '0.17'}, {'Rank': '92', 'Player': 'Домингес Николас', 'Position': 'Полузащитник', 'Team': 'Ноттингем Форест', 'Games': '12', 'Goals': '2', 'Penalties': '0', 'Goals/Games': '0.17'}, {'Rank': '93', 'Player': 'Винисиус', 'Position': 'Нападающий', 'Team': 'Фулхэм', 'Games': '13', 'Goals': '2', 'Penalties': '0', 'Goals/Games': '0.15'}, {'Rank': '94', 'Player': 'Синистерра Луис', 'Position': 'Нападающий', 'Team': 'Борнмут', 'Games': '13', 'Goals': '2', 'Penalties': '0', 'Goals/Games': '0.15'}, {'Rank': '95', 'Player': 'Уэлбек Дэнни', 'Position': 'Нападающий', 'Team': 'Брайтон', 'Games': '13', 'Goals': '2', 'Penalties': '0', 'Goals/Games': '0.15'}, {'Rank': '96', 'Player': 'Родригес Джей', 'Position': 'Нападающий', 'Team': 'Бернли', 'Games': '13', 'Goals': '2', 'Penalties': '1', 'Goals/Games': '0.15'}, {'Rank': '97', 'Player': 'Дуран Джон', 'Position': 'Нападающий', 'Team': 'Астон Вилла', 'Games': '14', 'Goals': '2', 'Penalties': '0', 'Goals/Games': '0.14'}, {'Rank': '98', 'Player': 'Льюис-Петтер Кин', 'Position': 'Нападающий', 'Team': 'Брентфорд', 'Games': '14', 'Goals': '2', 'Penalties': '0', 'Goals/Games': '0.14'}, {'Rank': '99', 'Player': 'Аканджи Мануэль', 'Position': 'Защитник', 'Team': 'Манчестер Сити', 'Games': '15', 'Goals': '2', 'Penalties': '0', 'Goals/Games': '0.13'}, {'Rank': '100', 'Player': 'Баркли Росс', 'Position': 'Полузащитник', 'Team': 'Лутон Таун', 'Games': '15', 'Goals': '2', 'Penalties': '0', 'Goals/Games': '0.13'}]\n"
     ]
    },
    {
     "name": "stdout",
     "output_type": "stream",
     "text": [
      "Scraping page - 2...\n",
      "[{'Rank': '101', 'Player': 'Харрисон Джек', 'Position': 'Полузащитник', 'Team': 'Эвертон', 'Games': '15', 'Goals': '2', 'Penalties': '0', 'Goals/Games': '0.13'}, {'Rank': '102', 'Player': 'Аке Натан', 'Position': 'Защитник', 'Team': 'Манчестер Сити', 'Games': '16', 'Goals': '2', 'Penalties': '0', 'Goals/Games': '0.13'}, {'Rank': '103', 'Player': 'Берн Дэн', 'Position': 'Защитник', 'Team': 'Ньюкасл', 'Games': '16', 'Goals': '2', 'Penalties': '0', 'Goals/Games': '0.13'}, {'Rank': '104', 'Player': 'Жоэлинтон', 'Position': 'Нападающий', 'Team': 'Ньюкасл', 'Games': '16', 'Goals': '2', 'Penalties': '0', 'Goals/Games': '0.13'}, {'Rank': '105', 'Player': 'Клюйверт Джастин', 'Position': 'Нападающий', 'Team': 'Борнмут', 'Games': '16', 'Goals': '2', 'Penalties': '0', 'Goals/Games': '0.13'}, {'Rank': '106', 'Player': 'Миколенко Виталий', 'Position': 'Защитник', 'Team': 'Эвертон', 'Games': '16', 'Goals': '2', 'Penalties': '0', 'Goals/Games': '0.13'}, {'Rank': '107', 'Player': 'Хёйлунд Расмус', 'Position': 'Нападающий', 'Team': 'Ман Юнайтед', 'Games': '16', 'Goals': '2', 'Penalties': '0', 'Goals/Games': '0.13'}, {'Rank': '108', 'Player': 'Ларсен Якоб', 'Position': 'Нападающий', 'Team': 'Бернли', 'Games': '17', 'Goals': '2', 'Penalties': '0', 'Goals/Games': '0.12'}, {'Rank': '109', 'Player': 'Сенеси Маркос', 'Position': 'Защитник', 'Team': 'Борнмут', 'Games': '17', 'Goals': '2', 'Penalties': '0', 'Goals/Games': '0.12'}, {'Rank': '110', 'Player': 'Таверньер Маркус', 'Position': 'Полузащитник', 'Team': 'Борнмут', 'Games': '17', 'Goals': '2', 'Penalties': '0', 'Goals/Games': '0.12'}, {'Rank': '111', 'Player': 'Александер-Арнольд Трент', 'Position': 'Защитник', 'Team': 'Ливерпуль', 'Games': '18', 'Goals': '2', 'Penalties': '0', 'Goals/Games': '0.11'}, {'Rank': '112', 'Player': 'Браун Джейкоб', 'Position': 'Нападающий', 'Team': 'Лутон Таун', 'Games': '18', 'Goals': '2', 'Penalties': '0', 'Goals/Games': '0.11'}, {'Rank': '113', 'Player': 'Кэш Мэтти', 'Position': 'Защитник', 'Team': 'Астон Вилла', 'Games': '18', 'Goals': '2', 'Penalties': '0', 'Goals/Games': '0.11'}, {'Rank': '114', 'Player': 'Лонгстафф Шон', 'Position': 'Полузащитник', 'Team': 'Ньюкасл', 'Games': '18', 'Goals': '2', 'Penalties': '0', 'Goals/Games': '0.11'}, {'Rank': '115', 'Player': 'Макнил Дуайт', 'Position': 'Нападающий', 'Team': 'Эвертон', 'Games': '18', 'Goals': '2', 'Penalties': '0', 'Goals/Games': '0.11'}, {'Rank': '116', 'Player': 'Палинья', 'Position': 'Полузащитник', 'Team': 'Фулхэм', 'Games': '18', 'Goals': '2', 'Penalties': '0', 'Goals/Games': '0.11'}, {'Rank': '117', 'Player': 'Сарр Папе', 'Position': 'Полузащитник', 'Team': 'Тоттенхэм', 'Games': '18', 'Goals': '2', 'Penalties': '0', 'Goals/Games': '0.11'}, {'Rank': '118', 'Player': 'Торрес Пау', 'Position': 'Защитник', 'Team': 'Астон Вилла', 'Games': '18', 'Goals': '2', 'Penalties': '0', 'Goals/Games': '0.11'}, {'Rank': '119', 'Player': 'Лукас Пакета', 'Position': 'Полузащитник', 'Team': 'Вест Хэм', 'Games': '18', 'Goals': '2', 'Penalties': '1', 'Goals/Games': '0.11'}, {'Rank': '120', 'Player': 'Матета Жан-Филипп', 'Position': 'Нападающий', 'Team': 'Кристал Пэлас', 'Games': '18', 'Goals': '2', 'Penalties': '1', 'Goals/Games': '0.11'}, {'Rank': '121', 'Player': 'Фернандес Энцо', 'Position': 'Полузащитник', 'Team': 'Челси', 'Games': '18', 'Goals': '2', 'Penalties': '1', 'Goals/Games': '0.11'}, {'Rank': '122', 'Player': 'Айю Жордан', 'Position': 'Нападающий', 'Team': 'Кристал Пэлас', 'Games': '19', 'Goals': '2', 'Penalties': '0', 'Goals/Games': '0.11'}, {'Rank': '123', 'Player': 'Биллинг Филипп', 'Position': 'Полузащитник', 'Team': 'Борнмут', 'Games': '19', 'Goals': '2', 'Penalties': '0', 'Goals/Games': '0.11'}, {'Rank': '124', 'Player': 'Габриэль', 'Position': 'Защитник', 'Team': 'Арсенал', 'Games': '19', 'Goals': '2', 'Penalties': '0', 'Goals/Games': '0.11'}, {'Rank': '125', 'Player': 'Хамер Густаво', 'Position': 'Полузащитник', 'Team': 'Шеффилд Юн', 'Games': '19', 'Goals': '2', 'Penalties': '0', 'Goals/Games': '0.11'}, {'Rank': '126', 'Player': 'Собослаи Доминик', 'Position': 'Полузащитник', 'Team': 'Ливерпуль', 'Games': '20', 'Goals': '2', 'Penalties': '0', 'Goals/Games': '0.10'}, {'Rank': '127', 'Player': 'Гиббс-Уайт Морган', 'Position': 'Полузащитник', 'Team': 'Ноттингем Форест', 'Games': '20', 'Goals': '2', 'Penalties': '1', 'Goals/Games': '0.10'}, {'Rank': '128', 'Player': 'Андерсен Йоаким', 'Position': 'Защитник', 'Team': 'Кристал Пэлас', 'Games': '21', 'Goals': '2', 'Penalties': '0', 'Goals/Games': '0.10'}, {'Rank': '129', 'Player': 'Уилсон Гарри', 'Position': 'Полузащитник', 'Team': 'Фулхэм', 'Games': '21', 'Goals': '2', 'Penalties': '0', 'Goals/Games': '0.10'}, {'Rank': '130', 'Player': 'Бреретон Бен', 'Position': 'Нападающий', 'Team': 'Шеффилд Юн', 'Games': '1', 'Goals': '1', 'Penalties': '0', 'Goals/Games': '1.00'}, {'Rank': '131', 'Player': 'Тоуни Айвен', 'Position': 'Нападающий', 'Team': 'Брентфорд', 'Games': '1', 'Goals': '1', 'Penalties': '0', 'Goals/Games': '1.00'}, {'Rank': '132', 'Player': 'Де Брюйне Кевин', 'Position': 'Полузащитник', 'Team': 'Манчестер Сити', 'Games': '2', 'Goals': '1', 'Penalties': '0', 'Goals/Games': '0.50'}, {'Rank': '133', 'Player': 'Корне Максвел', 'Position': 'Нападающий', 'Team': 'Вест Хэм', 'Games': '2', 'Goals': '1', 'Penalties': '0', 'Goals/Games': '0.50'}, {'Rank': '134', 'Player': 'Гомеш Андре', 'Position': 'Полузащитник', 'Team': 'Эвертон', 'Games': '3', 'Goals': '1', 'Penalties': '0', 'Goals/Games': '0.33'}, {'Rank': '135', 'Player': 'Нкунку Кристофер', 'Position': 'Нападающий', 'Team': 'Челси', 'Games': '3', 'Goals': '1', 'Penalties': '0', 'Goals/Games': '0.33'}, {'Rank': '136', 'Player': 'Чуквуемека Кэрни', 'Position': 'Полузащитник', 'Team': 'Челси', 'Games': '3', 'Goals': '1', 'Penalties': '0', 'Goals/Games': '0.33'}, {'Rank': '137', 'Player': 'Межбри Ганнибал', 'Position': 'Полузащитник', 'Team': 'Ман Юнайтед', 'Games': '5', 'Goals': '1', 'Penalties': '0', 'Goals/Games': '0.20'}, {'Rank': '138', 'Player': 'Мерфи Джейкоб', 'Position': 'Полузащитник', 'Team': 'Ньюкасл', 'Games': '5', 'Goals': '1', 'Penalties': '0', 'Goals/Games': '0.20'}, {'Rank': '139', 'Player': 'Шаде Кевин', 'Position': 'Полузащитник', 'Team': 'Брентфорд', 'Games': '5', 'Goals': '1', 'Penalties': '0', 'Goals/Games': '0.20'}, {'Rank': '140', 'Player': 'Баптист Шендон', 'Position': 'Полузащитник', 'Team': 'Брентфорд', 'Games': '6', 'Goals': '1', 'Penalties': '0', 'Goals/Games': '0.17'}, {'Rank': '141', 'Player': 'Барнс Харви', 'Position': 'Полузащитник', 'Team': 'Ньюкасл', 'Games': '6', 'Goals': '1', 'Penalties': '0', 'Goals/Games': '0.17'}, {'Rank': '142', 'Player': 'Бентанкур Родриго', 'Position': 'Полузащитник', 'Team': 'Тоттенхэм', 'Games': '6', 'Goals': '1', 'Penalties': '0', 'Goals/Games': '0.17'}, {'Rank': '143', 'Player': 'Доббин Льюис', 'Position': 'Нападающий', 'Team': 'Эвертон', 'Games': '6', 'Goals': '1', 'Penalties': '0', 'Goals/Games': '0.17'}, {'Rank': '144', 'Player': 'Бобб Оскар', 'Position': 'Полузащитник', 'Team': 'Манчестер Сити', 'Games': '7', 'Goals': '1', 'Penalties': '0', 'Goals/Games': '0.14'}, {'Rank': '145', 'Player': 'Кин Майкл', 'Position': 'Защитник', 'Team': 'Эвертон', 'Games': '7', 'Goals': '1', 'Penalties': '0', 'Goals/Games': '0.14'}, {'Rank': '146', 'Player': 'Скотт Алекс', 'Position': 'Полузащитник', 'Team': 'Борнмут', 'Games': '7', 'Goals': '1', 'Penalties': '0', 'Goals/Games': '0.14'}, {'Rank': '147', 'Player': 'Андерсен Мадс', 'Position': 'Защитник', 'Team': 'Лутон Таун', 'Games': '8', 'Goals': '1', 'Penalties': '0', 'Goals/Games': '0.13'}, {'Rank': '148', 'Player': 'Велиз Алехо', 'Position': 'Нападающий', 'Team': 'Тоттенхэм', 'Games': '8', 'Goals': '1', 'Penalties': '0', 'Goals/Games': '0.13'}, {'Rank': '149', 'Player': 'Дендонкер Леандер', 'Position': 'Полузащитник', 'Team': 'Астон Вилла', 'Games': '8', 'Goals': '1', 'Penalties': '0', 'Goals/Games': '0.13'}, {'Rank': '150', 'Player': 'Каземиро', 'Position': 'Полузащитник', 'Team': 'Ман Юнайтед', 'Games': '8', 'Goals': '1', 'Penalties': '0', 'Goals/Games': '0.13'}]\n",
      "Scraping page - 3...\n",
      "[{'Rank': '151', 'Player': 'Мавропанос Константинос', 'Position': 'Защитник', 'Team': 'Вест Хэм', 'Games': '8', 'Goals': '1', 'Penalties': '0', 'Goals/Games': '0.13'}, {'Rank': '152', 'Player': 'Морено Алехандро', 'Position': 'Защитник', 'Team': 'Астон Вилла', 'Games': '8', 'Goals': '1', 'Penalties': '0', 'Goals/Games': '0.13'}, {'Rank': '153', 'Player': 'Мур Киффер', 'Position': 'Нападающий', 'Team': 'Борнмут', 'Games': '8', 'Goals': '1', 'Penalties': '0', 'Goals/Games': '0.13'}, {'Rank': '154', 'Player': 'Робертсон Эндрю', 'Position': 'Защитник', 'Team': 'Ливерпуль', 'Games': '8', 'Goals': '1', 'Penalties': '0', 'Goals/Games': '0.13'}, {'Rank': '155', 'Player': 'Тонали Сандро', 'Position': 'Полузащитник', 'Team': 'Ньюкасл', 'Games': '8', 'Goals': '1', 'Penalties': '0', 'Goals/Games': '0.13'}, {'Rank': '156', 'Player': 'Виейра Фабио', 'Position': 'Полузащитник', 'Team': 'Арсенал', 'Games': '8', 'Goals': '1', 'Penalties': '1', 'Goals/Games': '0.13'}, {'Rank': '157', 'Player': 'Адарабиойо Тосин', 'Position': 'Защитник', 'Team': 'Фулхэм', 'Games': '9', 'Goals': '1', 'Penalties': '0', 'Goals/Games': '0.11'}, {'Rank': '158', 'Player': 'Льюис Рико', 'Position': 'Защитник', 'Team': 'Манчестер Сити', 'Games': '9', 'Goals': '1', 'Penalties': '0', 'Goals/Games': '0.11'}, {'Rank': '159', 'Player': 'Тете Кенни', 'Position': 'Защитник', 'Team': 'Фулхэм', 'Games': '9', 'Goals': '1', 'Penalties': '0', 'Goals/Games': '0.11'}, {'Rank': '160', 'Player': 'Майли Льюис', 'Position': 'Полузащитник', 'Team': 'Ньюкасл', 'Games': '10', 'Goals': '1', 'Penalties': '0', 'Goals/Games': '0.10'}, {'Rank': '161', 'Player': 'Ошо Габриэль', 'Position': 'Защитник', 'Team': 'Лутон Таун', 'Games': '10', 'Goals': '1', 'Penalties': '0', 'Goals/Games': '0.10'}, {'Rank': '162', 'Player': 'Рэмзи Джейкоб', 'Position': 'Полузащитник', 'Team': 'Астон Вилла', 'Games': '10', 'Goals': '1', 'Penalties': '0', 'Goals/Games': '0.10'}, {'Rank': '163', 'Player': 'ван де Вен Мики', 'Position': 'Защитник', 'Team': 'Тоттенхэм', 'Games': '12', 'Goals': '1', 'Penalties': '0', 'Goals/Games': '0.08'}, {'Rank': '164', 'Player': 'Варан Рафаэль', 'Position': 'Защитник', 'Team': 'Ман Юнайтед', 'Games': '12', 'Goals': '1', 'Penalties': '0', 'Goals/Games': '0.08'}, {'Rank': '165', 'Player': 'Линделёф Виктор', 'Position': 'Защитник', 'Team': 'Ман Юнайтед', 'Games': '12', 'Goals': '1', 'Penalties': '0', 'Goals/Games': '0.08'}, {'Rank': '166', 'Player': 'Нету Педру', 'Position': 'Нападающий', 'Team': 'Вулверхэмптон', 'Games': '12', 'Goals': '1', 'Penalties': '0', 'Goals/Games': '0.08'}, {'Rank': '167', 'Player': 'Таунсенд Эндрос', 'Position': 'Полузащитник', 'Team': 'Лутон Таун', 'Games': '12', 'Goals': '1', 'Penalties': '0', 'Goals/Games': '0.08'}, {'Rank': '168', 'Player': 'Хадсон-Одои Каллум', 'Position': 'Нападающий', 'Team': 'Ноттингем Форест', 'Games': '12', 'Goals': '1', 'Penalties': '0', 'Goals/Games': '0.08'}, {'Rank': '169', 'Player': 'Бройя Армандо', 'Position': 'Нападающий', 'Team': 'Челси', 'Games': '13', 'Goals': '1', 'Penalties': '0', 'Goals/Games': '0.08'}, {'Rank': '170', 'Player': 'Брукс Давид', 'Position': 'Полузащитник', 'Team': 'Борнмут', 'Games': '13', 'Goals': '1', 'Penalties': '0', 'Goals/Games': '0.08'}, {'Rank': '171', 'Player': 'Буананотте Факундо', 'Position': 'Полузащитник', 'Team': 'Брайтон', 'Games': '13', 'Goals': '1', 'Penalties': '0', 'Goals/Games': '0.08'}, {'Rank': '172', 'Player': 'Груневельд Арно', 'Position': 'Нападающий', 'Team': 'Эвертон', 'Games': '13', 'Goals': '1', 'Penalties': '0', 'Goals/Games': '0.08'}, {'Rank': '173', 'Player': 'Джонс Кертис', 'Position': 'Полузащитник', 'Team': 'Ливерпуль', 'Games': '13', 'Goals': '1', 'Penalties': '0', 'Goals/Games': '0.08'}, {'Rank': '174', 'Player': 'Марсьяль Антони', 'Position': 'Нападающий', 'Team': 'Ман Юнайтед', 'Games': '13', 'Goals': '1', 'Penalties': '0', 'Goals/Games': '0.08'}, {'Rank': '175', 'Player': 'Рим Тим', 'Position': 'Защитник', 'Team': 'Фулхэм', 'Games': '13', 'Goals': '1', 'Penalties': '0', 'Goals/Games': '0.08'}, {'Rank': '176', 'Player': 'Томиясу Такехиро', 'Position': 'Защитник', 'Team': 'Арсенал', 'Games': '13', 'Goals': '1', 'Penalties': '0', 'Goals/Games': '0.08'}, {'Rank': '177', 'Player': 'Тоффоло Гарри', 'Position': 'Защитник', 'Team': 'Ноттингем Форест', 'Games': '13', 'Goals': '1', 'Penalties': '0', 'Goals/Games': '0.08'}, {'Rank': '178', 'Player': 'Айна Ола', 'Position': 'Защитник', 'Team': 'Ноттингем Форест', 'Games': '14', 'Goals': '1', 'Penalties': '0', 'Goals/Games': '0.07'}, {'Rank': '179', 'Player': 'Гейе Идрисса', 'Position': 'Полузащитник', 'Team': 'Эвертон', 'Games': '14', 'Goals': '1', 'Penalties': '0', 'Goals/Games': '0.07'}, {'Rank': '180', 'Player': 'Годдос Саман', 'Position': 'Нападающий', 'Team': 'Брентфорд', 'Games': '14', 'Goals': '1', 'Penalties': '0', 'Goals/Games': '0.07'}, {'Rank': '181', 'Player': 'Данило', 'Position': 'Полузащитник', 'Team': 'Ноттингем Форест', 'Games': '14', 'Goals': '1', 'Penalties': '0', 'Goals/Games': '0.07'}, {'Rank': '182', 'Player': 'Дзаньоло Николо', 'Position': 'Полузащитник', 'Team': 'Астон Вилла', 'Games': '14', 'Goals': '1', 'Penalties': '0', 'Goals/Games': '0.07'}, {'Rank': '183', 'Player': 'Дэвис Бен', 'Position': 'Защитник', 'Team': 'Тоттенхэм', 'Games': '14', 'Goals': '1', 'Penalties': '0', 'Goals/Games': '0.07'}, {'Rank': '184', 'Player': 'Лассельс Джамаал', 'Position': 'Защитник', 'Team': 'Ньюкасл', 'Games': '14', 'Goals': '1', 'Penalties': '0', 'Goals/Games': '0.07'}, {'Rank': '185', 'Player': 'Локайер Том', 'Position': 'Защитник', 'Team': 'Лутон Таун', 'Games': '14', 'Goals': '1', 'Penalties': '0', 'Goals/Games': '0.07'}, {'Rank': '186', 'Player': 'Сарабия Пабло', 'Position': 'Полузащитник', 'Team': 'Вулверхэмптон', 'Games': '14', 'Goals': '1', 'Penalties': '0', 'Goals/Games': '0.07'}, {'Rank': '187', 'Player': 'Ахмедходжич Анел', 'Position': 'Защитник', 'Team': 'Шеффилд Юн', 'Games': '15', 'Goals': '1', 'Penalties': '0', 'Goals/Games': '0.07'}, {'Rank': '188', 'Player': 'Боли Вилли', 'Position': 'Защитник', 'Team': 'Ноттингем Форест', 'Games': '15', 'Goals': '1', 'Penalties': '0', 'Goals/Games': '0.07'}, {'Rank': '189', 'Player': 'Доэрти Мэтт', 'Position': 'Защитник', 'Team': 'Вулверхэмптон', 'Games': '15', 'Goals': '1', 'Penalties': '0', 'Goals/Games': '0.07'}, {'Rank': '190', 'Player': 'Колеошо Лука', 'Position': 'Нападающий', 'Team': 'Бернли', 'Games': '15', 'Goals': '1', 'Penalties': '0', 'Goals/Games': '0.07'}, {'Rank': '191', 'Player': 'Менги Теден', 'Position': 'Защитник', 'Team': 'Лутон Таун', 'Games': '15', 'Goals': '1', 'Penalties': '0', 'Goals/Games': '0.07'}, {'Rank': '192', 'Player': 'Эндо Ватару', 'Position': 'Полузащитник', 'Team': 'Ливерпуль', 'Games': '15', 'Goals': '1', 'Penalties': '0', 'Goals/Games': '0.07'}, {'Rank': '193', 'Player': 'Эриксен Кристиан', 'Position': 'Полузащитник', 'Team': 'Ман Юнайтед', 'Games': '15', 'Goals': '1', 'Penalties': '0', 'Goals/Games': '0.07'}, {'Rank': '194', 'Player': 'Агер Наиф', 'Position': 'Защитник', 'Team': 'Вест Хэм', 'Games': '16', 'Goals': '1', 'Penalties': '0', 'Goals/Games': '0.06'}, {'Rank': '195', 'Player': 'Бето', 'Position': 'Нападающий', 'Team': 'Эвертон', 'Games': '16', 'Goals': '1', 'Penalties': '0', 'Goals/Games': '0.06'}, {'Rank': '196', 'Player': 'Коллинз Натан', 'Position': 'Защитник', 'Team': 'Брентфорд', 'Games': '16', 'Goals': '1', 'Penalties': '0', 'Goals/Games': '0.06'}, {'Rank': '197', 'Player': 'МакАллистер Алексис', 'Position': 'Полузащитник', 'Team': 'Ливерпуль', 'Games': '16', 'Goals': '1', 'Penalties': '0', 'Goals/Games': '0.06'}, {'Rank': '198', 'Player': 'Тэйлор Чарли', 'Position': 'Защитник', 'Team': 'Бернли', 'Games': '16', 'Goals': '1', 'Penalties': '0', 'Goals/Games': '0.06'}, {'Rank': '199', 'Player': 'Чонг Тахит', 'Position': 'Полузащитник', 'Team': 'Лутон Таун', 'Games': '16', 'Goals': '1', 'Penalties': '0', 'Goals/Games': '0.06'}, {'Rank': '200', 'Player': 'Эмерсон', 'Position': 'Защитник', 'Team': 'Тоттенхэм', 'Games': '16', 'Goals': '1', 'Penalties': '0', 'Goals/Games': '0.06'}]\n"
     ]
    },
    {
     "name": "stdout",
     "output_type": "stream",
     "text": [
      "Well done\n"
     ]
    }
   ],
   "source": [
    "base_url = 'https://www.soccer.ru/stats/strikers/208298/1353714?page='\n",
    "agent_ = 'Mozilla/5.0 (Windows NT 10.0; Win64; x64) AppleWebKit/537.36 (KHTML, like Gecko) Chrome/120.0.0.0 Safari/537.36'\n",
    "\n",
    "    \n",
    "for page in range(0,4):\n",
    "    print(f'Scraping page - {page}...')\n",
    "    url = base_url + str(page)\n",
    "    data = scrape_page_data(url) #exctract data\n",
    "    print(data)\n",
    "    with open('hw_4_result.csv', 'a', newline='') as f:\n",
    "        fieldnames = ['Rank', 'Player', 'Position', 'Team', 'Games', 'Goals', 'Penalties', 'Goals/Games']\n",
    "        writer = csv.DictWriter(f, fieldnames=fieldnames)\n",
    "        writer.writeheader()\n",
    "        for row in data:\n",
    "            writer.writerow(row)\n",
    "    save_data_to_mongodb(data) #loat to mongo DB\n",
    "    time.sleep(5) # like human\n",
    "\n",
    "print('Well done')\n"
   ]
  },
  {
   "cell_type": "code",
   "execution_count": null,
   "id": "ca172da0",
   "metadata": {},
   "outputs": [],
   "source": []
  },
  {
   "cell_type": "code",
   "execution_count": null,
   "id": "c1b6ff30",
   "metadata": {},
   "outputs": [],
   "source": []
  }
 ],
 "metadata": {
  "kernelspec": {
   "display_name": "Python 3 (ipykernel)",
   "language": "python",
   "name": "python3"
  },
  "language_info": {
   "codemirror_mode": {
    "name": "ipython",
    "version": 3
   },
   "file_extension": ".py",
   "mimetype": "text/x-python",
   "name": "python",
   "nbconvert_exporter": "python",
   "pygments_lexer": "ipython3",
   "version": "3.9.13"
  }
 },
 "nbformat": 4,
 "nbformat_minor": 5
}
